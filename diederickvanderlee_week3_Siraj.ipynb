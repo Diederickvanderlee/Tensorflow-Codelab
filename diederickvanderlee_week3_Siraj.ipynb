{
  "nbformat": 4,
  "nbformat_minor": 0,
  "metadata": {
    "colab": {
      "name": "diederickvanderlee-week3-Siraj.ipynb",
      "provenance": [],
      "collapsed_sections": [],
      "toc_visible": true,
      "include_colab_link": true
    },
    "kernelspec": {
      "name": "python3",
      "display_name": "Python 3"
    }
  },
  "cells": [
    {
      "cell_type": "markdown",
      "metadata": {
        "id": "view-in-github",
        "colab_type": "text"
      },
      "source": [
        "<a href=\"https://colab.research.google.com/github/Diederickvanderlee/Tensorflow-Codelab/blob/master/diederickvanderlee_week3_Siraj.ipynb\" target=\"_parent\"><img src=\"https://colab.research.google.com/assets/colab-badge.svg\" alt=\"Open In Colab\"/></a>"
      ]
    },
    {
      "cell_type": "markdown",
      "metadata": {
        "id": "yqd67d8_xKi4",
        "colab_type": "text"
      },
      "source": [
        "###import dependencies & data\n"
      ]
    },
    {
      "cell_type": "code",
      "metadata": {
        "id": "X1AJA6xqmeNE",
        "colab_type": "code",
        "colab": {}
      },
      "source": [
        "from sklearn.model_selection import StratifiedShuffleSplit\n",
        "from sklearn.linear_model import LogisticRegression\n",
        "from sklearn.metrics import classification_report\n",
        "from sklearn.model_selection import train_test_split\n",
        "from sklearn.preprocessing import StandardScaler  \n",
        "from sklearn.metrics import confusion_matrix\n",
        "from sklearn.metrics import recall_score\n",
        "from sklearn.metrics import accuracy_score\n",
        "import numpy as np\n",
        "import pandas as pd\n",
        "import matplotlib.pyplot as plt\n",
        "import seaborn as sns"
      ],
      "execution_count": 0,
      "outputs": []
    },
    {
      "cell_type": "code",
      "metadata": {
        "id": "_CrUIrrTH9Wm",
        "colab_type": "code",
        "colab": {
          "base_uri": "https://localhost:8080/",
          "height": 124
        },
        "outputId": "fdfb288b-a165-4335-8671-9e44dd2b564c"
      },
      "source": [
        "from google.colab import drive\n",
        "drive.mount('drive', force_remount=True)"
      ],
      "execution_count": 3,
      "outputs": [
        {
          "output_type": "stream",
          "text": [
            "Go to this URL in a browser: https://accounts.google.com/o/oauth2/auth?client_id=947318989803-6bn6qk8qdgf4n4g3pfee6491hc0brc4i.apps.googleusercontent.com&redirect_uri=urn%3Aietf%3Awg%3Aoauth%3A2.0%3Aoob&scope=email%20https%3A%2F%2Fwww.googleapis.com%2Fauth%2Fdocs.test%20https%3A%2F%2Fwww.googleapis.com%2Fauth%2Fdrive%20https%3A%2F%2Fwww.googleapis.com%2Fauth%2Fdrive.photos.readonly%20https%3A%2F%2Fwww.googleapis.com%2Fauth%2Fpeopleapi.readonly&response_type=code\n",
            "\n",
            "Enter your authorization code:\n",
            "··········\n",
            "Mounted at drive\n"
          ],
          "name": "stdout"
        }
      ]
    },
    {
      "cell_type": "code",
      "metadata": {
        "id": "PEUvs_FyMdcM",
        "colab_type": "code",
        "colab": {}
      },
      "source": [
        "ccd_raw_df   =pd.read_csv(\"/train_identity.csv\")\n",
        "ccd_trans_df =pd.read_csv(\"/train_transaction.csv\")"
      ],
      "execution_count": 0,
      "outputs": []
    },
    {
      "cell_type": "markdown",
      "metadata": {
        "id": "Yt8XGw_gKP20",
        "colab_type": "text"
      },
      "source": [
        "###Explore data"
      ]
    },
    {
      "cell_type": "code",
      "metadata": {
        "id": "cIlbQpE7bHyX",
        "colab_type": "code",
        "colab": {
          "base_uri": "https://localhost:8080/",
          "height": 329
        },
        "outputId": "07036124-5049-4560-b649-1dfb55d90e71"
      },
      "source": [
        "print(\"shape train identity \", ccd_raw_df.shape)\n",
        "print(ccd_trans_df.shape)\n",
        "print (ccd_trans_df.head())\n",
        "print (ccd_raw_df.head())\n"
      ],
      "execution_count": 17,
      "outputs": [
        {
          "output_type": "stream",
          "text": [
            "shape train identity  (144233, 41)\n",
            "(590540, 394)\n",
            "   TransactionID  isFraud  TransactionDT  ...  V337 V338  V339\n",
            "0        2987000        0          86400  ...   NaN  NaN   NaN\n",
            "1        2987001        0          86401  ...   NaN  NaN   NaN\n",
            "2        2987002        0          86469  ...   NaN  NaN   NaN\n",
            "3        2987003        0          86499  ...   NaN  NaN   NaN\n",
            "4        2987004        0          86506  ...   0.0  0.0   0.0\n",
            "\n",
            "[5 rows x 394 columns]\n",
            "   TransactionID  id_01  ...  DeviceType                     DeviceInfo\n",
            "0        2987004    0.0  ...      mobile  SAMSUNG SM-G892A Build/NRD90M\n",
            "1        2987008   -5.0  ...      mobile                     iOS Device\n",
            "2        2987010   -5.0  ...     desktop                        Windows\n",
            "3        2987011   -5.0  ...     desktop                            NaN\n",
            "4        2987016    0.0  ...     desktop                          MacOS\n",
            "\n",
            "[5 rows x 41 columns]\n"
          ],
          "name": "stdout"
        }
      ]
    },
    {
      "cell_type": "markdown",
      "metadata": {
        "id": "6dCdSU9SJ0DX",
        "colab_type": "text"
      },
      "source": [
        "###Merge tables on TransactionID (smaller on larger!)"
      ]
    },
    {
      "cell_type": "code",
      "metadata": {
        "id": "MzCwqFC9bnlC",
        "colab_type": "code",
        "colab": {}
      },
      "source": [
        "full_train_df = pd.merge(ccd_trans_df, ccd_raw_df,  on = 'TransactionID', how = 'left')"
      ],
      "execution_count": 0,
      "outputs": []
    },
    {
      "cell_type": "code",
      "metadata": {
        "id": "aJEPMdH2ItOt",
        "colab_type": "code",
        "colab": {
          "base_uri": "https://localhost:8080/",
          "height": 191
        },
        "outputId": "45e69b38-426c-49f9-c463-8ac3a6f7d398"
      },
      "source": [
        "print(full_train_df.head())\n",
        "print(full_train_df.shape)\n",
        "pct_fraud = len(full_train_df[full_train_df[\"isFraud\"]==1])/len(full_train_df)*100\n",
        "print(\"%s %% of transactions is earmarked as fraudulent\"%(pct_fraud,))"
      ],
      "execution_count": 33,
      "outputs": [
        {
          "output_type": "stream",
          "text": [
            "   TransactionID  isFraud  ...  DeviceType                     DeviceInfo\n",
            "0        2987000        0  ...         NaN                            NaN\n",
            "1        2987001        0  ...         NaN                            NaN\n",
            "2        2987002        0  ...         NaN                            NaN\n",
            "3        2987003        0  ...         NaN                            NaN\n",
            "4        2987004        0  ...      mobile  SAMSUNG SM-G892A Build/NRD90M\n",
            "\n",
            "[5 rows x 434 columns]\n",
            "(590540, 434)\n",
            "3.4990009144173126 % of transactions is earmarked as fraudulent\n"
          ],
          "name": "stdout"
        }
      ]
    },
    {
      "cell_type": "code",
      "metadata": {
        "id": "6jRiXZ7gNmGP",
        "colab_type": "code",
        "colab": {
          "base_uri": "https://localhost:8080/",
          "height": 52
        },
        "outputId": "ee89cdbd-e59c-40e1-a88d-40f712e7b16a"
      },
      "source": [
        "legitimate = full_train_df[full_train_df[\"isFraud\"]==0]\n",
        "fraudulent = full_train_df[full_train_df[\"isFraud\"]==1]\n",
        "q_legitimate = legitimate[\"TransactionAmt\"]\n",
        "q_fraudulent = fraudulent[\"TransactionAmt\"]\n",
        "mean_legit = q_legitimate.mean()\n",
        "mean_fraud = q_fraudulent.mean()\n",
        "std_legit = q_legitimate.std()\n",
        "std_fraud = q_fraudulent.std()\n",
        "\n",
        "print (\"the mean legit is : %s, the mean fraud is: %s, \\nTHe std legit is: %s, the std fraud is: %s\"%(mean_legit, mean_fraud, std_legit, std_fraud))"
      ],
      "execution_count": 54,
      "outputs": [
        {
          "output_type": "stream",
          "text": [
            "the mean legit is : 134.51166457896034, the mean fraud is: 149.2447785897534, \n",
            "THe std legit is: 239.39507777152886, the std fraud is: 232.21216297086974\n"
          ],
          "name": "stdout"
        }
      ]
    },
    {
      "cell_type": "markdown",
      "metadata": {
        "id": "urTu5XzidZ1N",
        "colab_type": "text"
      },
      "source": [
        "#Exploring data\n"
      ]
    },
    {
      "cell_type": "markdown",
      "metadata": {
        "id": "R9rBgpj5djVM",
        "colab_type": "text"
      },
      "source": [
        "###Checking fraudulent vs legitimate"
      ]
    },
    {
      "cell_type": "code",
      "metadata": {
        "id": "joZSB3IqZzqE",
        "colab_type": "code",
        "colab": {
          "base_uri": "https://localhost:8080/",
          "height": 281
        },
        "outputId": "012abc1c-3cc3-45d7-d8d2-d0dc305f02a3"
      },
      "source": [
        "kwargs = dict(alpha=0.5, bins=10)\n",
        "\n",
        "plt.hist(q_legitimate, **kwargs,  color='g', label='legitimate')\n",
        "plt.hist(q_fraudulent, **kwargs,  color='r', label='Fraudulent')\n",
        "\n",
        "\n",
        "\n",
        "plt.gca().set(title='transaction ammount frequency fraud vs. legitimate', ylabel='Frequency')\n",
        "plt.xlim(0,4000)\n",
        "plt.legend();"
      ],
      "execution_count": 59,
      "outputs": [
        {
          "output_type": "display_data",
          "data": {
            "image/png": "[encoded data removed]",
            "text/plain": [
              "<Figure size 432x288 with 1 Axes>"
            ]
          },
          "metadata": {
            "tags": []
          }
        }
      ]
    },
    {
      "cell_type": "code",
      "metadata": {
        "id": "t7MCu32mcFSE",
        "colab_type": "code",
        "colab": {
          "base_uri": "https://localhost:8080/",
          "height": 301
        },
        "outputId": "d4aea041-4543-4b42-c54b-4478703074a0"
      },
      "source": [
        "sns.set_style('darkgrid')\n",
        "sns.distplot(q_legitimate)\n",
        "sns.distplot(q_fraudulent)\n"
      ],
      "execution_count": 62,
      "outputs": [
        {
          "output_type": "execute_result",
          "data": {
            "text/plain": [
              "<matplotlib.axes._subplots.AxesSubplot at 0x7fc6547d6e10>"
            ]
          },
          "metadata": {
            "tags": []
          },
          "execution_count": 62
        },
        {
          "output_type": "display_data",
          "data": {
            "image/png": "[encoded data removed]",
            "text/plain": [
              "<Figure size 432x288 with 1 Axes>"
            ]
          },
          "metadata": {
            "tags": []
          }
        }
      ]
    },
    {
      "cell_type": "markdown",
      "metadata": {
        "id": "nVoCUReJGNv1",
        "colab_type": "text"
      },
      "source": [
        "# Data Prepocessing"
      ]
    },
    {
      "cell_type": "markdown",
      "metadata": {
        "id": "FtNnclpDdvCB",
        "colab_type": "text"
      },
      "source": [
        "###Dealing with missing values\n"
      ]
    },
    {
      "cell_type": "code",
      "metadata": {
        "id": "bjOeGy-Ocs29",
        "colab_type": "code",
        "colab": {
          "base_uri": "https://localhost:8080/",
          "height": 1000
        },
        "outputId": "908ecc44-85a6-4068-c5f9-065c1f4b5ff5"
      },
      "source": [
        "\n",
        "plt.figure(figsize=(90,40))\n",
        "sns.barplot(y=full_train_df.isnull().sum().sort_values(ascending=False)/len(full_train_df),\n",
        "            x=full_train_df.isnull().sum().sort_values(ascending=False).index,\n",
        "            palette=\"Reds_d\")\n",
        "plt.title(\"Percentage NANs\",size=50)\n",
        "plt.xticks(rotation=90)"
      ],
      "execution_count": 65,
      "outputs": [
        {
          "output_type": "execute_result",
          "data": {
            "text/plain": [
              "(array([  0,   1,   2,   3,   4,   5,   6,   7,   8,   9,  10,  11,  12,\n",
              "         13,  14,  15,  16,  17,  18,  19,  20,  21,  22,  23,  24,  25,\n",
              "         26,  27,  28,  29,  30,  31,  32,  33,  34,  35,  36,  37,  38,\n",
              "         39,  40,  41,  42,  43,  44,  45,  46,  47,  48,  49,  50,  51,\n",
              "         52,  53,  54,  55,  56,  57,  58,  59,  60,  61,  62,  63,  64,\n",
              "         65,  66,  67,  68,  69,  70,  71,  72,  73,  74,  75,  76,  77,\n",
              "         78,  79,  80,  81,  82,  83,  84,  85,  86,  87,  88,  89,  90,\n",
              "         91,  92,  93,  94,  95,  96,  97,  98,  99, 100, 101, 102, 103,\n",
              "        104, 105, 106, 107, 108, 109, 110, 111, 112, 113, 114, 115, 116,\n",
              "        117, 118, 119, 120, 121, 122, 123, 124, 125, 126, 127, 128, 129,\n",
              "        130, 131, 132, 133, 134, 135, 136, 137, 138, 139, 140, 141, 142,\n",
              "        143, 144, 145, 146, 147, 148, 149, 150, 151, 152, 153, 154, 155,\n",
              "        156, 157, 158, 159, 160, 161, 162, 163, 164, 165, 166, 167, 168,\n",
              "        169, 170, 171, 172, 173, 174, 175, 176, 177, 178, 179, 180, 181,\n",
              "        182, 183, 184, 185, 186, 187, 188, 189, 190, 191, 192, 193, 194,\n",
              "        195, 196, 197, 198, 199, 200, 201, 202, 203, 204, 205, 206, 207,\n",
              "        208, 209, 210, 211, 212, 213, 214, 215, 216, 217, 218, 219, 220,\n",
              "        221, 222, 223, 224, 225, 226, 227, 228, 229, 230, 231, 232, 233,\n",
              "        234, 235, 236, 237, 238, 239, 240, 241, 242, 243, 244, 245, 246,\n",
              "        247, 248, 249, 250, 251, 252, 253, 254, 255, 256, 257, 258, 259,\n",
              "        260, 261, 262, 263, 264, 265, 266, 267, 268, 269, 270, 271, 272,\n",
              "        273, 274, 275, 276, 277, 278, 279, 280, 281, 282, 283, 284, 285,\n",
              "        286, 287, 288, 289, 290, 291, 292, 293, 294, 295, 296, 297, 298,\n",
              "        299, 300, 301, 302, 303, 304, 305, 306, 307, 308, 309, 310, 311,\n",
              "        312, 313, 314, 315, 316, 317, 318, 319, 320, 321, 322, 323, 324,\n",
              "        325, 326, 327, 328, 329, 330, 331, 332, 333, 334, 335, 336, 337,\n",
              "        338, 339, 340, 341, 342, 343, 344, 345, 346, 347, 348, 349, 350,\n",
              "        351, 352, 353, 354, 355, 356, 357, 358, 359, 360, 361, 362, 363,\n",
              "        364, 365, 366, 367, 368, 369, 370, 371, 372, 373, 374, 375, 376,\n",
              "        377, 378, 379, 380, 381, 382, 383, 384, 385, 386, 387, 388, 389,\n",
              "        390, 391, 392, 393, 394, 395, 396, 397, 398, 399, 400, 401, 402,\n",
              "        403, 404, 405, 406, 407, 408, 409, 410, 411, 412, 413, 414, 415,\n",
              "        416, 417, 418, 419, 420, 421, 422, 423, 424, 425, 426, 427, 428,\n",
              "        429, 430, 431, 432, 433]), <a list of 434 Text xticklabel objects>)"
            ]
          },
          "metadata": {
            "tags": []
          },
          "execution_count": 65
        },
        {
          "output_type": "display_data",
          "data": {
            "image/png": "[encoded data removed]",
            "text/plain": [
              "<Figure size 6480x2880 with 1 Axes>"
            ]
          },
          "metadata": {
            "tags": []
          }
        }
      ]
    },
    {
      "cell_type": "markdown",
      "metadata": {
        "id": "wiHJ7m2re1wK",
        "colab_type": "text"
      },
      "source": [
        "##Remove all columns that have too little information "
      ]
    },
    {
      "cell_type": "markdown",
      "metadata": {
        "id": "2pPMsaNPfA2Y",
        "colab_type": "text"
      },
      "source": [
        "###Any columns that have more than 90% data available will remain. (missing values  <10%)"
      ]
    },
    {
      "cell_type": "code",
      "metadata": {
        "id": "7RgvGOiFeIsG",
        "colab_type": "code",
        "colab": {}
      },
      "source": [
        "columns_def=pd.DataFrame({\"na_count\":full_train_df.isnull().sum().sort_values(ascending=False)})\n",
        "columns_def[\"per\"]=columns_def[\"na_count\"]/len(full_train_df)"
      ],
      "execution_count": 0,
      "outputs": []
    },
    {
      "cell_type": "markdown",
      "metadata": {
        "id": "RljcBU9fggb6",
        "colab_type": "text"
      },
      "source": [
        "create column with percentages missing\n",
        "then dropping those with a lower percentage than missing"
      ]
    },
    {
      "cell_type": "code",
      "metadata": {
        "id": "Sp6LhJrv_mS0",
        "colab_type": "code",
        "colab": {}
      },
      "source": [
        "range = [0.05, 0.1, 0.15, 0.25, 0.4, 0.6, 0.75]"
      ],
      "execution_count": 0,
      "outputs": []
    },
    {
      "cell_type": "markdown",
      "metadata": {
        "id": "zQbaayqz_2Kf",
        "colab_type": "text"
      },
      "source": [
        "### Bythe following loop will check how much of the data is left with i% missing values.\n"
      ]
    },
    {
      "cell_type": "code",
      "metadata": {
        "id": "mDeegqpW_bt-",
        "colab_type": "code",
        "colab": {
          "base_uri": "https://localhost:8080/",
          "height": 159
        },
        "outputId": "046174e6-dabc-4124-f2ba-213fb3f66a5a"
      },
      "source": [
        "for i in range: \n",
        "    print (\"for %s percentage missing values, %s percent of the data is left\"%(i, columns_def[columns_def[\"per\"]<i].shape[0]/full_train_df.shape[1]))"
      ],
      "execution_count": 91,
      "outputs": [
        {
          "output_type": "stream",
          "text": [
            "for 0.05 percentage missing values, 0.25806451612903225 percent of the data is left\n",
            "for 0.1 percentage missing values, 0.25806451612903225 percent of the data is left\n",
            "for 0.15 percentage missing values, 0.3686635944700461 percent of the data is left\n",
            "for 0.25 percentage missing values, 0.41935483870967744 percent of the data is left\n",
            "for 0.4 percentage missing values, 0.46543778801843316 percent of the data is left\n",
            "for 0.6 percentage missing values, 0.5207373271889401 percent of the data is left\n",
            "for 0.75 percentage missing values, 0.5207373271889401 percent of the data is left\n"
          ],
          "name": "stdout"
        }
      ]
    },
    {
      "cell_type": "markdown",
      "metadata": {
        "id": "Z0mOH07wCMZQ",
        "colab_type": "text"
      },
      "source": [
        "10% seems alright arbitrarily\n"
      ]
    },
    {
      "cell_type": "code",
      "metadata": {
        "id": "zzmX0IIyfSXE",
        "colab_type": "code",
        "colab": {}
      },
      "source": [
        "columns_final=columns_def[columns_def[\"per\"]<limit].index \n",
        "limit=0.15\n",
        "full_train_df=full_train_df[full_train_df.columns.intersection(columns_final)]\n"
      ],
      "execution_count": 0,
      "outputs": []
    },
    {
      "cell_type": "code",
      "metadata": {
        "id": "OvTr7AK4hr66",
        "colab_type": "code",
        "colab": {
          "base_uri": "https://localhost:8080/",
          "height": 191
        },
        "outputId": "f8a9f07e-95b1-401e-c4fb-abb599505b66"
      },
      "source": [
        "print(full_train_df.head())\n",
        "print(full_train_df.shape)\n",
        "pct_fraud2 = len(full_train_df[full_train_df[\"isFraud\"]==1])/len(full_train_df)*100\n",
        "print(\"%s %% of transactions is earmarked as fraudulent\"%(pct_fraud2,))"
      ],
      "execution_count": 93,
      "outputs": [
        {
          "output_type": "stream",
          "text": [
            "   TransactionID  isFraud  TransactionDT  ...  V319 V320  V321\n",
            "0        2987000        0          86400  ...   0.0  0.0   0.0\n",
            "1        2987001        0          86401  ...   0.0  0.0   0.0\n",
            "2        2987002        0          86469  ...   0.0  0.0   0.0\n",
            "3        2987003        0          86499  ...   0.0  0.0   0.0\n",
            "4        2987004        0          86506  ...   0.0  0.0   0.0\n",
            "\n",
            "[5 rows x 112 columns]\n",
            "(590540, 112)\n",
            "3.4990009144173126 % of transactions is earmarked as fraudulent\n"
          ],
          "name": "stdout"
        }
      ]
    },
    {
      "cell_type": "markdown",
      "metadata": {
        "id": "bw0zne1whFpa",
        "colab_type": "text"
      },
      "source": [
        "##Playing with categorical variables"
      ]
    },
    {
      "cell_type": "code",
      "metadata": {
        "id": "JRwlxZgFhPlV",
        "colab_type": "code",
        "colab": {
          "base_uri": "https://localhost:8080/",
          "height": 1000
        },
        "outputId": "0638b7ea-25e2-4bcd-80c4-cb1409fa4703"
      },
      "source": [
        "full_train_df[full_train_df.select_dtypes(include=['object']).columns]"
      ],
      "execution_count": 73,
      "outputs": [
        {
          "output_type": "execute_result",
          "data": {
            "text/html": [
              "<div>\n",
              "<style scoped>\n",
              "    .dataframe tbody tr th:only-of-type {\n",
              "        vertical-align: middle;\n",
              "    }\n",
              "\n",
              "    .dataframe tbody tr th {\n",
              "        vertical-align: top;\n",
              "    }\n",
              "\n",
              "    .dataframe thead th {\n",
              "        text-align: right;\n",
              "    }\n",
              "</style>\n",
              "<table border=\"1\" class=\"dataframe\">\n",
              "  <thead>\n",
              "    <tr style=\"text-align: right;\">\n",
              "      <th></th>\n",
              "      <th>ProductCD</th>\n",
              "      <th>card4</th>\n",
              "      <th>card6</th>\n",
              "    </tr>\n",
              "  </thead>\n",
              "  <tbody>\n",
              "    <tr>\n",
              "      <th>0</th>\n",
              "      <td>W</td>\n",
              "      <td>discover</td>\n",
              "      <td>credit</td>\n",
              "    </tr>\n",
              "    <tr>\n",
              "      <th>1</th>\n",
              "      <td>W</td>\n",
              "      <td>mastercard</td>\n",
              "      <td>credit</td>\n",
              "    </tr>\n",
              "    <tr>\n",
              "      <th>2</th>\n",
              "      <td>W</td>\n",
              "      <td>visa</td>\n",
              "      <td>debit</td>\n",
              "    </tr>\n",
              "    <tr>\n",
              "      <th>3</th>\n",
              "      <td>W</td>\n",
              "      <td>mastercard</td>\n",
              "      <td>debit</td>\n",
              "    </tr>\n",
              "    <tr>\n",
              "      <th>4</th>\n",
              "      <td>H</td>\n",
              "      <td>mastercard</td>\n",
              "      <td>credit</td>\n",
              "    </tr>\n",
              "    <tr>\n",
              "      <th>5</th>\n",
              "      <td>W</td>\n",
              "      <td>visa</td>\n",
              "      <td>debit</td>\n",
              "    </tr>\n",
              "    <tr>\n",
              "      <th>6</th>\n",
              "      <td>W</td>\n",
              "      <td>visa</td>\n",
              "      <td>debit</td>\n",
              "    </tr>\n",
              "    <tr>\n",
              "      <th>7</th>\n",
              "      <td>W</td>\n",
              "      <td>visa</td>\n",
              "      <td>debit</td>\n",
              "    </tr>\n",
              "    <tr>\n",
              "      <th>8</th>\n",
              "      <td>H</td>\n",
              "      <td>visa</td>\n",
              "      <td>debit</td>\n",
              "    </tr>\n",
              "    <tr>\n",
              "      <th>9</th>\n",
              "      <td>W</td>\n",
              "      <td>mastercard</td>\n",
              "      <td>debit</td>\n",
              "    </tr>\n",
              "    <tr>\n",
              "      <th>10</th>\n",
              "      <td>C</td>\n",
              "      <td>mastercard</td>\n",
              "      <td>credit</td>\n",
              "    </tr>\n",
              "    <tr>\n",
              "      <th>11</th>\n",
              "      <td>C</td>\n",
              "      <td>mastercard</td>\n",
              "      <td>debit</td>\n",
              "    </tr>\n",
              "    <tr>\n",
              "      <th>12</th>\n",
              "      <td>W</td>\n",
              "      <td>visa</td>\n",
              "      <td>debit</td>\n",
              "    </tr>\n",
              "    <tr>\n",
              "      <th>13</th>\n",
              "      <td>W</td>\n",
              "      <td>visa</td>\n",
              "      <td>debit</td>\n",
              "    </tr>\n",
              "    <tr>\n",
              "      <th>14</th>\n",
              "      <td>W</td>\n",
              "      <td>visa</td>\n",
              "      <td>debit</td>\n",
              "    </tr>\n",
              "    <tr>\n",
              "      <th>15</th>\n",
              "      <td>W</td>\n",
              "      <td>visa</td>\n",
              "      <td>debit</td>\n",
              "    </tr>\n",
              "    <tr>\n",
              "      <th>16</th>\n",
              "      <td>H</td>\n",
              "      <td>visa</td>\n",
              "      <td>debit</td>\n",
              "    </tr>\n",
              "    <tr>\n",
              "      <th>17</th>\n",
              "      <td>H</td>\n",
              "      <td>mastercard</td>\n",
              "      <td>credit</td>\n",
              "    </tr>\n",
              "    <tr>\n",
              "      <th>18</th>\n",
              "      <td>W</td>\n",
              "      <td>visa</td>\n",
              "      <td>debit</td>\n",
              "    </tr>\n",
              "    <tr>\n",
              "      <th>19</th>\n",
              "      <td>W</td>\n",
              "      <td>visa</td>\n",
              "      <td>debit</td>\n",
              "    </tr>\n",
              "    <tr>\n",
              "      <th>20</th>\n",
              "      <td>W</td>\n",
              "      <td>mastercard</td>\n",
              "      <td>debit</td>\n",
              "    </tr>\n",
              "    <tr>\n",
              "      <th>21</th>\n",
              "      <td>W</td>\n",
              "      <td>mastercard</td>\n",
              "      <td>debit</td>\n",
              "    </tr>\n",
              "    <tr>\n",
              "      <th>22</th>\n",
              "      <td>H</td>\n",
              "      <td>visa</td>\n",
              "      <td>credit</td>\n",
              "    </tr>\n",
              "    <tr>\n",
              "      <th>23</th>\n",
              "      <td>W</td>\n",
              "      <td>mastercard</td>\n",
              "      <td>debit</td>\n",
              "    </tr>\n",
              "    <tr>\n",
              "      <th>24</th>\n",
              "      <td>W</td>\n",
              "      <td>visa</td>\n",
              "      <td>debit</td>\n",
              "    </tr>\n",
              "    <tr>\n",
              "      <th>25</th>\n",
              "      <td>W</td>\n",
              "      <td>mastercard</td>\n",
              "      <td>debit</td>\n",
              "    </tr>\n",
              "    <tr>\n",
              "      <th>26</th>\n",
              "      <td>W</td>\n",
              "      <td>visa</td>\n",
              "      <td>debit</td>\n",
              "    </tr>\n",
              "    <tr>\n",
              "      <th>27</th>\n",
              "      <td>W</td>\n",
              "      <td>visa</td>\n",
              "      <td>debit</td>\n",
              "    </tr>\n",
              "    <tr>\n",
              "      <th>28</th>\n",
              "      <td>W</td>\n",
              "      <td>mastercard</td>\n",
              "      <td>debit</td>\n",
              "    </tr>\n",
              "    <tr>\n",
              "      <th>29</th>\n",
              "      <td>W</td>\n",
              "      <td>visa</td>\n",
              "      <td>debit</td>\n",
              "    </tr>\n",
              "    <tr>\n",
              "      <th>...</th>\n",
              "      <td>...</td>\n",
              "      <td>...</td>\n",
              "      <td>...</td>\n",
              "    </tr>\n",
              "    <tr>\n",
              "      <th>590510</th>\n",
              "      <td>W</td>\n",
              "      <td>visa</td>\n",
              "      <td>debit</td>\n",
              "    </tr>\n",
              "    <tr>\n",
              "      <th>590511</th>\n",
              "      <td>W</td>\n",
              "      <td>visa</td>\n",
              "      <td>debit</td>\n",
              "    </tr>\n",
              "    <tr>\n",
              "      <th>590512</th>\n",
              "      <td>W</td>\n",
              "      <td>visa</td>\n",
              "      <td>credit</td>\n",
              "    </tr>\n",
              "    <tr>\n",
              "      <th>590513</th>\n",
              "      <td>W</td>\n",
              "      <td>visa</td>\n",
              "      <td>debit</td>\n",
              "    </tr>\n",
              "    <tr>\n",
              "      <th>590514</th>\n",
              "      <td>W</td>\n",
              "      <td>visa</td>\n",
              "      <td>debit</td>\n",
              "    </tr>\n",
              "    <tr>\n",
              "      <th>590515</th>\n",
              "      <td>W</td>\n",
              "      <td>visa</td>\n",
              "      <td>debit</td>\n",
              "    </tr>\n",
              "    <tr>\n",
              "      <th>590516</th>\n",
              "      <td>W</td>\n",
              "      <td>visa</td>\n",
              "      <td>debit</td>\n",
              "    </tr>\n",
              "    <tr>\n",
              "      <th>590517</th>\n",
              "      <td>W</td>\n",
              "      <td>visa</td>\n",
              "      <td>credit</td>\n",
              "    </tr>\n",
              "    <tr>\n",
              "      <th>590518</th>\n",
              "      <td>W</td>\n",
              "      <td>visa</td>\n",
              "      <td>debit</td>\n",
              "    </tr>\n",
              "    <tr>\n",
              "      <th>590519</th>\n",
              "      <td>W</td>\n",
              "      <td>mastercard</td>\n",
              "      <td>debit</td>\n",
              "    </tr>\n",
              "    <tr>\n",
              "      <th>590520</th>\n",
              "      <td>W</td>\n",
              "      <td>visa</td>\n",
              "      <td>debit</td>\n",
              "    </tr>\n",
              "    <tr>\n",
              "      <th>590521</th>\n",
              "      <td>C</td>\n",
              "      <td>mastercard</td>\n",
              "      <td>debit</td>\n",
              "    </tr>\n",
              "    <tr>\n",
              "      <th>590522</th>\n",
              "      <td>W</td>\n",
              "      <td>visa</td>\n",
              "      <td>debit</td>\n",
              "    </tr>\n",
              "    <tr>\n",
              "      <th>590523</th>\n",
              "      <td>W</td>\n",
              "      <td>mastercard</td>\n",
              "      <td>debit</td>\n",
              "    </tr>\n",
              "    <tr>\n",
              "      <th>590524</th>\n",
              "      <td>W</td>\n",
              "      <td>mastercard</td>\n",
              "      <td>debit</td>\n",
              "    </tr>\n",
              "    <tr>\n",
              "      <th>590525</th>\n",
              "      <td>W</td>\n",
              "      <td>visa</td>\n",
              "      <td>debit</td>\n",
              "    </tr>\n",
              "    <tr>\n",
              "      <th>590526</th>\n",
              "      <td>R</td>\n",
              "      <td>visa</td>\n",
              "      <td>credit</td>\n",
              "    </tr>\n",
              "    <tr>\n",
              "      <th>590527</th>\n",
              "      <td>W</td>\n",
              "      <td>visa</td>\n",
              "      <td>debit</td>\n",
              "    </tr>\n",
              "    <tr>\n",
              "      <th>590528</th>\n",
              "      <td>W</td>\n",
              "      <td>mastercard</td>\n",
              "      <td>credit</td>\n",
              "    </tr>\n",
              "    <tr>\n",
              "      <th>590529</th>\n",
              "      <td>C</td>\n",
              "      <td>mastercard</td>\n",
              "      <td>credit</td>\n",
              "    </tr>\n",
              "    <tr>\n",
              "      <th>590530</th>\n",
              "      <td>W</td>\n",
              "      <td>mastercard</td>\n",
              "      <td>credit</td>\n",
              "    </tr>\n",
              "    <tr>\n",
              "      <th>590531</th>\n",
              "      <td>R</td>\n",
              "      <td>visa</td>\n",
              "      <td>credit</td>\n",
              "    </tr>\n",
              "    <tr>\n",
              "      <th>590532</th>\n",
              "      <td>W</td>\n",
              "      <td>mastercard</td>\n",
              "      <td>debit</td>\n",
              "    </tr>\n",
              "    <tr>\n",
              "      <th>590533</th>\n",
              "      <td>W</td>\n",
              "      <td>visa</td>\n",
              "      <td>debit</td>\n",
              "    </tr>\n",
              "    <tr>\n",
              "      <th>590534</th>\n",
              "      <td>C</td>\n",
              "      <td>mastercard</td>\n",
              "      <td>debit</td>\n",
              "    </tr>\n",
              "    <tr>\n",
              "      <th>590535</th>\n",
              "      <td>W</td>\n",
              "      <td>visa</td>\n",
              "      <td>debit</td>\n",
              "    </tr>\n",
              "    <tr>\n",
              "      <th>590536</th>\n",
              "      <td>W</td>\n",
              "      <td>mastercard</td>\n",
              "      <td>debit</td>\n",
              "    </tr>\n",
              "    <tr>\n",
              "      <th>590537</th>\n",
              "      <td>W</td>\n",
              "      <td>mastercard</td>\n",
              "      <td>debit</td>\n",
              "    </tr>\n",
              "    <tr>\n",
              "      <th>590538</th>\n",
              "      <td>W</td>\n",
              "      <td>mastercard</td>\n",
              "      <td>debit</td>\n",
              "    </tr>\n",
              "    <tr>\n",
              "      <th>590539</th>\n",
              "      <td>W</td>\n",
              "      <td>mastercard</td>\n",
              "      <td>credit</td>\n",
              "    </tr>\n",
              "  </tbody>\n",
              "</table>\n",
              "<p>590540 rows × 3 columns</p>\n",
              "</div>"
            ],
            "text/plain": [
              "       ProductCD       card4   card6\n",
              "0              W    discover  credit\n",
              "1              W  mastercard  credit\n",
              "2              W        visa   debit\n",
              "3              W  mastercard   debit\n",
              "4              H  mastercard  credit\n",
              "5              W        visa   debit\n",
              "6              W        visa   debit\n",
              "7              W        visa   debit\n",
              "8              H        visa   debit\n",
              "9              W  mastercard   debit\n",
              "10             C  mastercard  credit\n",
              "11             C  mastercard   debit\n",
              "12             W        visa   debit\n",
              "13             W        visa   debit\n",
              "14             W        visa   debit\n",
              "15             W        visa   debit\n",
              "16             H        visa   debit\n",
              "17             H  mastercard  credit\n",
              "18             W        visa   debit\n",
              "19             W        visa   debit\n",
              "20             W  mastercard   debit\n",
              "21             W  mastercard   debit\n",
              "22             H        visa  credit\n",
              "23             W  mastercard   debit\n",
              "24             W        visa   debit\n",
              "25             W  mastercard   debit\n",
              "26             W        visa   debit\n",
              "27             W        visa   debit\n",
              "28             W  mastercard   debit\n",
              "29             W        visa   debit\n",
              "...          ...         ...     ...\n",
              "590510         W        visa   debit\n",
              "590511         W        visa   debit\n",
              "590512         W        visa  credit\n",
              "590513         W        visa   debit\n",
              "590514         W        visa   debit\n",
              "590515         W        visa   debit\n",
              "590516         W        visa   debit\n",
              "590517         W        visa  credit\n",
              "590518         W        visa   debit\n",
              "590519         W  mastercard   debit\n",
              "590520         W        visa   debit\n",
              "590521         C  mastercard   debit\n",
              "590522         W        visa   debit\n",
              "590523         W  mastercard   debit\n",
              "590524         W  mastercard   debit\n",
              "590525         W        visa   debit\n",
              "590526         R        visa  credit\n",
              "590527         W        visa   debit\n",
              "590528         W  mastercard  credit\n",
              "590529         C  mastercard  credit\n",
              "590530         W  mastercard  credit\n",
              "590531         R        visa  credit\n",
              "590532         W  mastercard   debit\n",
              "590533         W        visa   debit\n",
              "590534         C  mastercard   debit\n",
              "590535         W        visa   debit\n",
              "590536         W  mastercard   debit\n",
              "590537         W  mastercard   debit\n",
              "590538         W  mastercard   debit\n",
              "590539         W  mastercard  credit\n",
              "\n",
              "[590540 rows x 3 columns]"
            ]
          },
          "metadata": {
            "tags": []
          },
          "execution_count": 73
        }
      ]
    },
    {
      "cell_type": "markdown",
      "metadata": {
        "id": "_YGpG1xiDzwW",
        "colab_type": "text"
      },
      "source": [
        "###Creating dummy values"
      ]
    },
    {
      "cell_type": "markdown",
      "metadata": {
        "id": "142Put5jCpp1",
        "colab_type": "text"
      },
      "source": [
        "Dealing with categories is arbitrary and difficult to deal with compuationally. dummies turns literal categories into numerical identifiers. (each object category will be turned in a boolean column)"
      ]
    },
    {
      "cell_type": "code",
      "metadata": {
        "id": "gj-_GhpDh7TV",
        "colab_type": "code",
        "colab": {
          "base_uri": "https://localhost:8080/",
          "height": 35
        },
        "outputId": "2ab03b67-f2f8-4201-f79b-7a9840df0266"
      },
      "source": [
        "card_dummy_df=pd.get_dummies(full_train_df[\"card6\"])\n",
        "full_train_df.shape"
      ],
      "execution_count": 97,
      "outputs": [
        {
          "output_type": "execute_result",
          "data": {
            "text/plain": [
              "(590540, 112)"
            ]
          },
          "metadata": {
            "tags": []
          },
          "execution_count": 97
        }
      ]
    },
    {
      "cell_type": "markdown",
      "metadata": {
        "id": "f9K3Vp9zFBt2",
        "colab_type": "text"
      },
      "source": [
        "concatenate old dataframe with the newly created columns"
      ]
    },
    {
      "cell_type": "code",
      "metadata": {
        "id": "oHiXEGKrE_ny",
        "colab_type": "code",
        "colab": {}
      },
      "source": [
        "full_train_df=pd.concat([full_train_df,card_dummy_df],axis=1)\n",
        "full_train_df=full_train_df._get_numeric_data()\n",
        "full_train_df=full_train_df.dropna()\n"
      ],
      "execution_count": 0,
      "outputs": []
    },
    {
      "cell_type": "code",
      "metadata": {
        "id": "2voE56DJFg5G",
        "colab_type": "code",
        "colab": {
          "base_uri": "https://localhost:8080/",
          "height": 52
        },
        "outputId": "3bd065ea-9785-43d4-94f0-a9bf4b1065ba"
      },
      "source": [
        "print(full_train_df.shape)\n",
        "pct_fraud = len(full_train_df[full_train_df[\"isFraud\"]==1])/len(full_train_df)*100\n",
        "print(\"%s %% of transactions is earmarked as fraudulent\"%(pct_fraud))"
      ],
      "execution_count": 105,
      "outputs": [
        {
          "output_type": "stream",
          "text": [
            "(578090, 113)\n",
            "3.46278261170406 % of transactions is earmarked as fraudulent\n"
          ],
          "name": "stdout"
        }
      ]
    },
    {
      "cell_type": "markdown",
      "metadata": {
        "id": "iesWlNLUGebR",
        "colab_type": "text"
      },
      "source": [
        "# Splitting training and testing data\n"
      ]
    },
    {
      "cell_type": "code",
      "metadata": {
        "id": "FLt_CNLmGq6d",
        "colab_type": "code",
        "colab": {}
      },
      "source": [
        "x_full_df = full_train_df.drop([\"isFraud\"], axis=1)\n",
        "y_full_df = full_train_df[\"isFraud\"]\n",
        "X_train,X_test,y_train,y_test=train_test_split(x_full_df,y_full_df,test_size=0.30)\n"
      ],
      "execution_count": 0,
      "outputs": []
    },
    {
      "cell_type": "markdown",
      "metadata": {
        "id": "ovYOHqV8H74a",
        "colab_type": "text"
      },
      "source": [
        "#Creating Models"
      ]
    },
    {
      "cell_type": "markdown",
      "metadata": {
        "id": "Gn4rPxf0IlrV",
        "colab_type": "text"
      },
      "source": [
        "create logistic regression model"
      ]
    },
    {
      "cell_type": "code",
      "metadata": {
        "id": "firV-tpsIAkF",
        "colab_type": "code",
        "colab": {
          "base_uri": "https://localhost:8080/",
          "height": 104
        },
        "outputId": "6067b66d-8bb0-4a8d-869d-46c762f63e43"
      },
      "source": [
        "lr = LogisticRegression(solver= 'lbfgs')\n",
        "lr.fit(X_train, y_train)"
      ],
      "execution_count": 108,
      "outputs": [
        {
          "output_type": "execute_result",
          "data": {
            "text/plain": [
              "LogisticRegression(C=1.0, class_weight=None, dual=False, fit_intercept=True,\n",
              "                   intercept_scaling=1, l1_ratio=None, max_iter=100,\n",
              "                   multi_class='warn', n_jobs=None, penalty='l2',\n",
              "                   random_state=None, solver='lbfgs', tol=0.0001, verbose=0,\n",
              "                   warm_start=False)"
            ]
          },
          "metadata": {
            "tags": []
          },
          "execution_count": 108
        }
      ]
    },
    {
      "cell_type": "code",
      "metadata": {
        "id": "qX1jk9B5IqVn",
        "colab_type": "code",
        "colab": {
          "base_uri": "https://localhost:8080/",
          "height": 55
        },
        "outputId": "015b7b3a-8ad9-4c02-f85a-15a2b672dafa"
      },
      "source": [
        "print(\"Logistic regression is able to predict fraudulent behavior with %s percent accuracy\"%lr.score(X_test, y_test))"
      ],
      "execution_count": 110,
      "outputs": [
        {
          "output_type": "stream",
          "text": [
            "Logistic regression is able to predict fradulent behavior with 0.9649189572557906 percent accuracy\n"
          ],
          "name": "stdout"
        }
      ]
    },
    {
      "cell_type": "markdown",
      "metadata": {
        "id": "1Kp07lGDKx7z",
        "colab_type": "text"
      },
      "source": [
        "### Make a confusion table to analyse how good the prediction action was wat catchin frauds "
      ]
    },
    {
      "cell_type": "code",
      "metadata": {
        "id": "_rrQz-0JJHw9",
        "colab_type": "code",
        "colab": {
          "base_uri": "https://localhost:8080/",
          "height": 171
        },
        "outputId": "63e2fa6a-e852-4e8e-fb30-93bd531814f6"
      },
      "source": [
        "y_pred = lr.predict(X_test)\n",
        "pd.crosstab(y_test, y_pred, rownames=[\"True\"], colnames = ['Pedicted'], margins=True)"
      ],
      "execution_count": 112,
      "outputs": [
        {
          "output_type": "execute_result",
          "data": {
            "text/html": [
              "<div>\n",
              "<style scoped>\n",
              "    .dataframe tbody tr th:only-of-type {\n",
              "        vertical-align: middle;\n",
              "    }\n",
              "\n",
              "    .dataframe tbody tr th {\n",
              "        vertical-align: top;\n",
              "    }\n",
              "\n",
              "    .dataframe thead th {\n",
              "        text-align: right;\n",
              "    }\n",
              "</style>\n",
              "<table border=\"1\" class=\"dataframe\">\n",
              "  <thead>\n",
              "    <tr style=\"text-align: right;\">\n",
              "      <th>Pedicted</th>\n",
              "      <th>0</th>\n",
              "      <th>All</th>\n",
              "    </tr>\n",
              "    <tr>\n",
              "      <th>True</th>\n",
              "      <th></th>\n",
              "      <th></th>\n",
              "    </tr>\n",
              "  </thead>\n",
              "  <tbody>\n",
              "    <tr>\n",
              "      <th>0</th>\n",
              "      <td>167343</td>\n",
              "      <td>167343</td>\n",
              "    </tr>\n",
              "    <tr>\n",
              "      <th>1</th>\n",
              "      <td>6084</td>\n",
              "      <td>6084</td>\n",
              "    </tr>\n",
              "    <tr>\n",
              "      <th>All</th>\n",
              "      <td>173427</td>\n",
              "      <td>173427</td>\n",
              "    </tr>\n",
              "  </tbody>\n",
              "</table>\n",
              "</div>"
            ],
            "text/plain": [
              "Pedicted       0     All\n",
              "True                    \n",
              "0         167343  167343\n",
              "1           6084    6084\n",
              "All       173427  173427"
            ]
          },
          "metadata": {
            "tags": []
          },
          "execution_count": 112
        }
      ]
    },
    {
      "cell_type": "markdown",
      "metadata": {
        "id": "cKnYTiwCMDmP",
        "colab_type": "text"
      },
      "source": [
        "###Recall score gives actual positive prediction accuracy\n"
      ]
    },
    {
      "cell_type": "code",
      "metadata": {
        "id": "R5UOi_cwL1yk",
        "colab_type": "code",
        "colab": {
          "base_uri": "https://localhost:8080/",
          "height": 35
        },
        "outputId": "9068f838-68f7-47d5-83d4-4b44af27bec8"
      },
      "source": [
        "recall_score(y_test, y_pred)"
      ],
      "execution_count": 113,
      "outputs": [
        {
          "output_type": "execute_result",
          "data": {
            "text/plain": [
              "0.0"
            ]
          },
          "metadata": {
            "tags": []
          },
          "execution_count": 113
        }
      ]
    },
    {
      "cell_type": "markdown",
      "metadata": {
        "id": "jzoJQTv7Mp35",
        "colab_type": "text"
      },
      "source": [
        "##Recall is more important than prediction accuracy!!"
      ]
    },
    {
      "cell_type": "markdown",
      "metadata": {
        "id": "xq6JvVMAMOix",
        "colab_type": "text"
      },
      "source": [
        "#conclusion : LR is not good at predicting Fraud\n"
      ]
    }
  ]
}